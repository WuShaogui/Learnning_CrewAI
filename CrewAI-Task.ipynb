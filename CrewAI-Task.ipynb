{
 "cells": [
  {
   "cell_type": "markdown",
   "id": "75d78208-1b2b-4771-b7fe-bc30471a3054",
   "metadata": {},
   "source": [
    "Task描述了实际工作中的一项任务，这个任务可以指定特定的Agent去完成，也可以通过委派去要求其他Agent完成，就相当于团队的一项工作，指定负责人，然后负责人去自己或者找人去完成"
   ]
  },
  {
   "cell_type": "code",
   "execution_count": null,
   "id": "5aa28537-c5d0-4978-a3f8-9f456542a1dd",
   "metadata": {
    "execution": {
     "iopub.execute_input": "2024-12-11T01:08:01.551812Z",
     "iopub.status.busy": "2024-12-11T01:08:01.550812Z"
    }
   },
   "outputs": [],
   "source": [
    "from crewai import Task\n",
    "\n",
    "Task?"
   ]
  },
  {
   "cell_type": "code",
   "execution_count": 2,
   "id": "0f4203b0-9fac-4fdb-9772-8a5cf18632bd",
   "metadata": {
    "execution": {
     "iopub.execute_input": "2024-12-10T03:47:56.318027Z",
     "iopub.status.busy": "2024-12-10T03:47:56.317003Z",
     "iopub.status.idle": "2024-12-10T03:47:56.341526Z",
     "shell.execute_reply": "2024-12-10T03:47:56.340522Z",
     "shell.execute_reply.started": "2024-12-10T03:47:56.318027Z"
    }
   },
   "outputs": [
    {
     "data": {
      "text/plain": [
       "Task(description=\n",
       "    查找最近招聘计算机视觉工程师需要具备的工作技能，\n",
       "    那个领域的计算机视觉工程师薪资相对比较高\n",
       "    , expected_output=\n",
       "    使用列表列举工作技能及岗位，Markdown格式\n",
       "    )"
      ]
     },
     "execution_count": 2,
     "metadata": {},
     "output_type": "execute_result"
    }
   ],
   "source": [
    "# 定义任务\n",
    "cv_task=Task(\n",
    "    description=\"\"\"\n",
    "    查找最近招聘计算机视觉工程师需要具备的工作技能，\n",
    "    那个领域的计算机视觉工程师薪资相对比较高\n",
    "    \"\"\",\n",
    "    expected_output=\"\"\"\n",
    "    使用列表列举工作技能及岗位，Markdown格式\n",
    "    \"\"\",\n",
    ")\n",
    "\n",
    "nlp_task=Task(\n",
    "    description=\"\"\"\n",
    "    查找最近招聘计算机自然语言开发工程师需要具备的工作技能，\n",
    "    那个领域的计算机自然语言开发工程师薪资相对比较高\n",
    "    \"\"\",\n",
    "    expected_output=\"\"\"\n",
    "    使用列表列举工作技能及岗位，Markdown格式\n",
    "    \"\"\",\n",
    "    context=[cv_task] # 等待cv_task完成后再进行nlp_task\n",
    ")\n",
    "\n",
    "cv_task,nlp_task"
   ]
  },
  {
   "cell_type": "markdown",
   "id": "c2834836-24f2-40c5-bcc4-296f27e207f6",
   "metadata": {},
   "source": [
    "任务的主要作用是：描述Agent要执行的任务，并指定输出格式。以下是输出格式说明：\n",
    "\n",
    "|属性|参数|类型|描述|\n",
    "|---|---|---|---|\n",
    "|描述|description|str|任务的描述。|\n",
    "|总结|summary|Optional[str]|任务摘要，根据描述的前 10 个单词自动生成。|\n",
    "|原始|raw|str|任务的原始输出。这是输出的默认格式。|\n",
    "|pydantic|pydantic|Optional[BaseModel]|一个 Pydantic 模型对象，表示任务的结构化输出。|\n",
    "|JSON 字典|json_dict|Optional[Dict[str, Any]]|表示任务的 JSON 输出的字典。|\n",
    "|代理|agent|str|执行任务的代理程序。|\n",
    "|输出格式|output_format|OutputFormat|任务输出的格式，选项包括 RAW、JSON 和 Pydantic。默认值为 RAW。|abs"
   ]
  },
  {
   "cell_type": "code",
   "execution_count": 3,
   "id": "bf875e2e-5876-4647-94e0-c944daed4072",
   "metadata": {
    "execution": {
     "iopub.execute_input": "2024-12-10T03:48:00.771160Z",
     "iopub.status.busy": "2024-12-10T03:48:00.771160Z",
     "iopub.status.idle": "2024-12-10T03:48:05.294448Z",
     "shell.execute_reply": "2024-12-10T03:48:05.292703Z",
     "shell.execute_reply.started": "2024-12-10T03:48:00.771160Z"
    }
   },
   "outputs": [
    {
     "data": {
      "text/plain": [
       "<Future at 0x211263f3670 state=pending>"
      ]
     },
     "execution_count": 3,
     "metadata": {},
     "output_type": "execute_result"
    },
    {
     "name": "stdout",
     "output_type": "stream",
     "text": [
      "\u001b[1m\u001b[95m# Agent:\u001b[00m \u001b[1m\u001b[92m计算机视觉工程师\u001b[00m\n",
      "\u001b[95m## Task:\u001b[00m \u001b[92m\n",
      "    查找最近招聘计算机视觉工程师需要具备的工作技能，\n",
      "    那个领域的计算机视觉工程师薪资相对比较高\n",
      "    \u001b[00m\n",
      "\n",
      "\n",
      "\u001b[1m\u001b[95m# Agent:\u001b[00m \u001b[1m\u001b[92m计算机视觉工程师\u001b[00m\n",
      "\u001b[95m## Using tool:\u001b[00m \u001b[92mSearch the internet\u001b[00m\n",
      "\u001b[95m## Tool Input:\u001b[00m \u001b[92m\n",
      "\"{\\\"search_query\\\": \\\"\\\\u62db\\\\u8058\\\\u8ba1\\\\u7b97\\\\u673a\\\\u89c6\\\\u89c9\\\\u5de5\\\\u7a0b\\\\u5e08 \\\\u85aa\\\\u8d44\\\\u6700\\\\u9ad8\\\\u7684\\\\u9886\\\\u57df \\\\u6280\\\\u80fd\\\\u8981\\\\u6c42\\\"}\"\u001b[00m\n",
      "\u001b[95m## Tool Output:\u001b[00m \u001b[92m\n",
      "\n",
      "Search results: Title: [PDF] 2021年度中国计算机视觉人才调研报告 - Deloitte\n",
      "Link: https://www2.deloitte.com/content/dam/Deloitte/cn/Documents/innovation/deloitte-cn-iddc-2021-china-computer-vision-talent-survey-report-zh-220225.pdf\n",
      "Snippet: 在硬技能方面,除了对专业知识的要求外,企业在招聘人才时更加关注人才是否具有计算机视觉领域相关项目经验和科. 研/实习经验。 创新能力. AI/CV相关项目经验. 领导力、管理 ...\n",
      "---\n",
      "Title: Indeed：生成式人工智能的技能能够带来近50% 的薪资增长\n",
      "Link: https://www.nacshr.org/1606.html\n",
      "Snippet: 生成式人工智能与其他关键技能一起为求职者带来高薪，包括深度学习、计算机视觉以及特定软件语言和框架（如Rust 或PyTorch ）的知识。 在技术行业，一个新的 ...\n",
      "---\n",
      "Title: 十大AI岗位薪资排行出炉，机器学习居于榜首 - AMiner\n",
      "Link: https://www.aminer.org/research_report/5d1f0ed27fb2beaed5722279\n",
      "Snippet: 1.机器学习工程师. 平均工资：$142,859 · 2.数据学家. 平均工资：$126,927 · 3.计算机视觉工程师. 平均工资$126,400 · 4.数据库架构师. 平均工资：$126,008 · 5.\n",
      "---\n",
      "\u001b[00m\n",
      "\n",
      "\n",
      "\u001b[1m\u001b[95m# Agent:\u001b[00m \u001b[1m\u001b[92m计算机视觉工程师\u001b[00m\n",
      "\u001b[95m## Final Answer:\u001b[00m \u001b[92m\n",
      "```markdown\n",
      "最近招聘计算机视觉工程师需要具备的工作技能及岗位\n",
      "\n",
      "1. 计算机视觉工程师\n",
      "   - 熟悉机器学习算法：支持向量机（SVM）、随机森林、神经网络等；\n",
      "   - 掌握主流的计算机视觉技术，如目标检测与跟踪、图像分类、语义分割等；\n",
      "   - 熟练使用OpenCV, Caffe, TensorFlow, PyTorch等工具；\n",
      "   - 具备实际项目经验，了解深度学习框架的部署和应用；\n",
      "   - 有领域内知名公司或研究项目的实习经历优先。\n",
      "\n",
      "2. 招聘领域\n",
      "   - 高端制造：工业缺陷检测、自动驾驶系统等；\n",
      "   - 医疗健康：医学影像分析、病理识别等；\n",
      "   - 金融科技：反欺诈、智能投顾等；\n",
      "   - 物流与配送：仓储管理、货物追踪等。\n",
      "\n",
      "薪资最高的领域：\n",
      "- 根据2021年度中国计算机视觉人才调研报告，计算机视觉工程师在高端制造领域的薪资相对较高。\n",
      "```\u001b[00m\n",
      "\n",
      "\n"
     ]
    }
   ],
   "source": [
    "# 定义Agent\n",
    "from api_key import SERPER_API_KEY,TAVILY_API_KEY\n",
    "import os\n",
    "os.environ[\"SERPER_API_KEY\"] = SERPER_API_KEY  # serper.dev API key\n",
    "\n",
    "from crewai import  Agent\n",
    "from crewai_tools import SerperDevTool\n",
    "from crewai.llm import LLM\n",
    "\n",
    "cv_agent=Agent(\n",
    "    role=\"计算机视觉工程师\",\n",
    "    goal=\"查找并理解计算机视觉工程师的工作内容，熟悉的代码和工具\",\n",
    "    backstory = \"已经在计算机视觉领域工作5年，有丰富的计算机视觉经验，尤其是在工业缺陷检测方面\",\n",
    "    llm=LLM(\n",
    "        model=\"ollama_chat/qwen2.5:latest\", \n",
    "        base_url=\"http://192.168.3.155:11434\"),\n",
    "    memory=True,\n",
    "    verbose=True,\n",
    "    tools=[SerperDevTool(n_results=3)],\n",
    "    embedder_config={\n",
    "        \"provider\": \"ollama\",\n",
    "        \"config\": {\n",
    "            \"model\": 'quentinz/bge-large-zh-v1.5:latest',\n",
    "            \"base_url\": 'http://localhost:11434'\n",
    "        }\n",
    "    }\n",
    ")\n",
    "\n",
    "cv_task.execute_async(agent=cv_agent)"
   ]
  },
  {
   "cell_type": "markdown",
   "id": "51935689-d2dd-4980-9fc8-78817c2ab242",
   "metadata": {},
   "source": [
    "## 访问任务输出\n",
    "\n",
    "在执行完任务之后，可以通过任务对象访问输出"
   ]
  },
  {
   "cell_type": "code",
   "execution_count": 4,
   "id": "d4cfeaf3-24ed-4f2c-ab1c-29f31c523f9c",
   "metadata": {
    "execution": {
     "iopub.execute_input": "2024-12-10T03:48:28.605036Z",
     "iopub.status.busy": "2024-12-10T03:48:28.602391Z",
     "iopub.status.idle": "2024-12-10T03:48:28.625133Z",
     "shell.execute_reply": "2024-12-10T03:48:28.624125Z",
     "shell.execute_reply.started": "2024-12-10T03:48:28.605036Z"
    }
   },
   "outputs": [
    {
     "name": "stdout",
     "output_type": "stream",
     "text": [
      "Task Description: \n",
      "    查找最近招聘计算机视觉工程师需要具备的工作技能，\n",
      "    那个领域的计算机视觉工程师薪资相对比较高\n",
      "    \n",
      "Task Summary: \n",
      "    查找最近招聘计算机视觉工程师需要具备的工作技能，\n",
      "    那个领域的计算机视觉工程师薪资相对比较高\n",
      " ...\n",
      "Raw Output: ```markdown\n",
      "最近招聘计算机视觉工程师需要具备的工作技能及岗位\n",
      "\n",
      "1. 计算机视觉工程师\n",
      "   - 熟悉机器学习算法：支持向量机（SVM）、随机森林、神经网络等；\n",
      "   - 掌握主流的计算机视觉技术，如目标检测与跟踪、图像分类、语义分割等；\n",
      "   - 熟练使用OpenCV, Caffe, TensorFlow, PyTorch等工具；\n",
      "   - 具备实际项目经验，了解深度学习框架的部署和应用；\n",
      "   - 有领域内知名公司或研究项目的实习经历优先。\n",
      "\n",
      "2. 招聘领域\n",
      "   - 高端制造：工业缺陷检测、自动驾驶系统等；\n",
      "   - 医疗健康：医学影像分析、病理识别等；\n",
      "   - 金融科技：反欺诈、智能投顾等；\n",
      "   - 物流与配送：仓储管理、货物追踪等。\n",
      "\n",
      "薪资最高的领域：\n",
      "- 根据2021年度中国计算机视觉人才调研报告，计算机视觉工程师在高端制造领域的薪资相对较高。\n",
      "```\n"
     ]
    }
   ],
   "source": [
    "task_output = cv_task.output\n",
    "\n",
    "print(f\"Task Description: {task_output.description}\")\n",
    "print(f\"Task Summary: {task_output.summary}\")\n",
    "print(f\"Raw Output: {task_output.raw}\")\n",
    "if task_output.json_dict:\n",
    "    print(f\"JSON Output: {json.dumps(task_output.json_dict, indent=2)}\")\n",
    "if task_output.pydantic:\n",
    "    print(f\"Pydantic Output: {task_output.pydantic}\")"
   ]
  },
  {
   "cell_type": "markdown",
   "id": "9d58cf4a-5d6c-4d63-a34f-5d9452f6501e",
   "metadata": {},
   "source": [
    "## 指定任务依赖关系\n",
    "\n",
    "一个团队内可以有多个任务发布，通过任务中的context指定任务的依赖关系"
   ]
  },
  {
   "cell_type": "code",
   "execution_count": 7,
   "id": "173dd1c6-0a9a-4a38-95cb-18c60dda4159",
   "metadata": {
    "execution": {
     "iopub.execute_input": "2024-12-10T03:55:09.789689Z",
     "iopub.status.busy": "2024-12-10T03:55:09.789689Z",
     "iopub.status.idle": "2024-12-10T03:55:09.802819Z",
     "shell.execute_reply": "2024-12-10T03:55:09.801800Z",
     "shell.execute_reply.started": "2024-12-10T03:55:09.789689Z"
    }
   },
   "outputs": [
    {
     "data": {
      "text/plain": [
       "Task(description=写一篇文章，从多个层面讨论计算机视觉工程师转行到计算机自然语言开发工程师，包括技术、能力、薪资、未来发展等, expected_output=按层次输出文章，Markdown格式)"
      ]
     },
     "execution_count": 7,
     "metadata": {},
     "output_type": "execute_result"
    }
   ],
   "source": [
    "write_blog_task = Task(\n",
    "    description=\"写一篇文章，从多个层面讨论计算机视觉工程师转行到计算机自然语言开发工程师，包括技术、能力、薪资、未来发展等\",\n",
    "    expected_output=\"按层次输出文章，Markdown格式\",\n",
    "    context=[cv_task, nlp_task]\n",
    ")\n",
    "write_blog_task"
   ]
  },
  {
   "cell_type": "code",
   "execution_count": 6,
   "id": "467168ac-a5fd-4e61-a31d-6a7a5ffeeacd",
   "metadata": {
    "execution": {
     "iopub.execute_input": "2024-12-10T03:48:48.352724Z",
     "iopub.status.busy": "2024-12-10T03:48:48.352724Z",
     "iopub.status.idle": "2024-12-10T03:48:48.383622Z",
     "shell.execute_reply": "2024-12-10T03:48:48.380815Z",
     "shell.execute_reply.started": "2024-12-10T03:48:48.352724Z"
    }
   },
   "outputs": [
    {
     "data": {
      "text/plain": [
       "<Future at 0x2115fe004f0 state=pending>"
      ]
     },
     "execution_count": 6,
     "metadata": {},
     "output_type": "execute_result"
    },
    {
     "name": "stdout",
     "output_type": "stream",
     "text": [
      "\u001b[1m\u001b[95m# Agent:\u001b[00m \u001b[1m\u001b[92m计算机视觉工程师\u001b[00m\n",
      "\u001b[95m## Task:\u001b[00m \u001b[92m\n",
      "    查找最近招聘计算机视觉工程师需要具备的工作技能，\n",
      "    那个领域的计算机视觉工程师薪资相对比较高\n",
      "    \u001b[00m\n",
      "\n",
      "\n",
      "\u001b[1m\u001b[95m# Agent:\u001b[00m \u001b[1m\u001b[92m计算机视觉工程师\u001b[00m\n",
      "\u001b[95m## Using tool:\u001b[00m \u001b[92mSearch the internet\u001b[00m\n",
      "\u001b[95m## Tool Input:\u001b[00m \u001b[92m\n",
      "\"{\\\"search_query\\\": \\\"\\\\u6700\\\\u8fd1\\\\u62db\\\\u8058\\\\u8ba1\\\\u7b97\\\\u673a\\\\u89c6\\\\u89c9\\\\u5de5\\\\u7a0b\\\\u5e08 \\\\u9700\\\\u8981\\\\u5177\\\\u5907\\\\u7684\\\\u5de5\\\\u4f5c\\\\u6280\\\\u80fd \\\\u5de5\\\\u8d44\\\\u60c5\\\\u51b5\\\"}\"\u001b[00m\n",
      "\u001b[95m## Tool Output:\u001b[00m \u001b[92m\n",
      "\n",
      "Search results: Title: 计算机视觉工程师薪资待遇 - 猎聘\n",
      "Link: https://www.liepin.com/zpjisuanjishijuegongchengshi/xinzi/\n",
      "Snippet: 计算机视觉工程师薪资待遇. 主页 招聘信息 薪资待遇 岗位职责 招聘要求. 月平均薪资 ... 该职位工作年限与月均薪资的关系为：. 全部年限平均月薪为：26434元. 1年以下 ...\n",
      "---\n",
      "Title: 2020中国计算机视觉人才调研报告：算法岗年薪三十多万\n",
      "Link: https://m.thepaper.cn/baijiahao_11433021\n",
      "Snippet: 报告从中国计算机视觉人才所在城市、专业背景、研究领域、开发习惯、薪资情况、行业分布等维度，全面展现人才当前学习与工作的现状。 1、七成以上CV人才 ...\n",
      "---\n",
      "Title: 2020中国计算机视觉人才调研报告：算法岗年薪三十多万 - 腾讯云\n",
      "Link: https://cloud.tencent.com/developer/article/1800907\n",
      "Snippet: 这一部分将阐释企业、社会对计算机视觉人才学历、专业、技能等方面的具体诉求，同时说明企业对计算机视觉领域非算法岗位的需求情况。\n",
      "---\n",
      "\u001b[00m\n",
      "\n",
      "\n",
      "\u001b[1m\u001b[95m# Agent:\u001b[00m \u001b[1m\u001b[92m计算机视觉工程师\u001b[00m\n",
      "\u001b[95m## Final Answer:\u001b[00m \u001b[92m\n",
      "{\n",
      "  \"title\": \"最近招聘计算机视觉工程师的工作技能及高薪领域的信息\",\n",
      "  \"content\": \"根据网络搜索结果，当前招聘计算机视觉工程师的职位需求多样。通常需要掌握以下工作技能：\\n1. 熟练使用Python、C++等编程语言；\\n2. 掌握OpenCV、Pandas等计算机视觉库和工具；\\n3. 了解深度学习框架如TensorFlow、PyTorch等；\\n4. 对图像处理与分析有一定理解。\\n此外，薪资方面，在北京或上海等地工作的算法工程师年薪可达到30万以上。\"\n",
      "}\u001b[00m\n",
      "\n",
      "\n"
     ]
    }
   ],
   "source": [
    "## 格式化输出\n",
    "from pydantic import BaseModel\n",
    "\n",
    "class Paper(BaseModel):\n",
    "    title:str\n",
    "    content:str\n",
    "\n",
    "cv_task=Task(\n",
    "    description=\"\"\"\n",
    "    查找最近招聘计算机视觉工程师需要具备的工作技能，\n",
    "    那个领域的计算机视觉工程师薪资相对比较高\n",
    "    \"\"\",\n",
    "    expected_output=\"\"\"\n",
    "    使用列表列举工作技能及岗位，Markdown格式\n",
    "    \"\"\",\n",
    "    output_pydantic=Paper\n",
    ")\n",
    "\n",
    "cv_task.execute_async(agent=cv_agent)"
   ]
  },
  {
   "cell_type": "code",
   "execution_count": 13,
   "id": "5d3af770-b2dd-4c7d-94cf-658d4bd2cc81",
   "metadata": {
    "execution": {
     "iopub.execute_input": "2024-12-10T03:44:41.188476Z",
     "iopub.status.busy": "2024-12-10T03:44:41.188476Z",
     "iopub.status.idle": "2024-12-10T03:44:41.215565Z",
     "shell.execute_reply": "2024-12-10T03:44:41.213529Z",
     "shell.execute_reply.started": "2024-12-10T03:44:41.188476Z"
    }
   },
   "outputs": [
    {
     "data": {
      "text/plain": [
       "\u001b[1;31mSignature:\u001b[0m\n",
       "\u001b[0mcv_task\u001b[0m\u001b[1;33m.\u001b[0m\u001b[0mexecute_async\u001b[0m\u001b[1;33m(\u001b[0m\u001b[1;33m\n",
       "\u001b[0m    \u001b[0magent\u001b[0m\u001b[1;33m:\u001b[0m \u001b[0mcrewai\u001b[0m\u001b[1;33m.\u001b[0m\u001b[0magents\u001b[0m\u001b[1;33m.\u001b[0m\u001b[0magent_builder\u001b[0m\u001b[1;33m.\u001b[0m\u001b[0mbase_agent\u001b[0m\u001b[1;33m.\u001b[0m\u001b[0mBaseAgent\u001b[0m \u001b[1;33m|\u001b[0m \u001b[1;32mNone\u001b[0m \u001b[1;33m=\u001b[0m \u001b[1;32mNone\u001b[0m\u001b[1;33m,\u001b[0m\u001b[1;33m\n",
       "\u001b[0m    \u001b[0mcontext\u001b[0m\u001b[1;33m:\u001b[0m \u001b[0mOptional\u001b[0m\u001b[1;33m[\u001b[0m\u001b[0mstr\u001b[0m\u001b[1;33m]\u001b[0m \u001b[1;33m=\u001b[0m \u001b[1;32mNone\u001b[0m\u001b[1;33m,\u001b[0m\u001b[1;33m\n",
       "\u001b[0m    \u001b[0mtools\u001b[0m\u001b[1;33m:\u001b[0m \u001b[0mOptional\u001b[0m\u001b[1;33m[\u001b[0m\u001b[0mList\u001b[0m\u001b[1;33m[\u001b[0m\u001b[0mcrewai\u001b[0m\u001b[1;33m.\u001b[0m\u001b[0mtools\u001b[0m\u001b[1;33m.\u001b[0m\u001b[0mbase_tool\u001b[0m\u001b[1;33m.\u001b[0m\u001b[0mBaseTool\u001b[0m\u001b[1;33m]\u001b[0m\u001b[1;33m]\u001b[0m \u001b[1;33m=\u001b[0m \u001b[1;32mNone\u001b[0m\u001b[1;33m,\u001b[0m\u001b[1;33m\n",
       "\u001b[0m\u001b[1;33m)\u001b[0m \u001b[1;33m->\u001b[0m \u001b[0mconcurrent\u001b[0m\u001b[1;33m.\u001b[0m\u001b[0mfutures\u001b[0m\u001b[1;33m.\u001b[0m\u001b[0m_base\u001b[0m\u001b[1;33m.\u001b[0m\u001b[0mFuture\u001b[0m\u001b[1;33m[\u001b[0m\u001b[0mcrewai\u001b[0m\u001b[1;33m.\u001b[0m\u001b[0mtasks\u001b[0m\u001b[1;33m.\u001b[0m\u001b[0mtask_output\u001b[0m\u001b[1;33m.\u001b[0m\u001b[0mTaskOutput\u001b[0m\u001b[1;33m]\u001b[0m\u001b[1;33m\u001b[0m\u001b[1;33m\u001b[0m\u001b[0m\n",
       "\u001b[1;31mDocstring:\u001b[0m Execute the task asynchronously.\n",
       "\u001b[1;31mFile:\u001b[0m      c:\\users\\wushaogui\\miniconda3\\lib\\site-packages\\crewai\\task.py\n",
       "\u001b[1;31mType:\u001b[0m      method"
      ]
     },
     "metadata": {},
     "output_type": "display_data"
    }
   ],
   "source": []
  }
 ],
 "metadata": {
  "kernelspec": {
   "display_name": "Python 3 (ipykernel)",
   "language": "python",
   "name": "python3"
  },
  "language_info": {
   "codemirror_mode": {
    "name": "ipython",
    "version": 3
   },
   "file_extension": ".py",
   "mimetype": "text/x-python",
   "name": "python",
   "nbconvert_exporter": "python",
   "pygments_lexer": "ipython3",
   "version": "3.10.14"
  }
 },
 "nbformat": 4,
 "nbformat_minor": 5
}
