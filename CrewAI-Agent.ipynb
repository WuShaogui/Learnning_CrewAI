{
 "cells": [
  {
   "cell_type": "markdown",
   "id": "a041d27e-3523-432a-8516-c110bb89ced6",
   "metadata": {},
   "source": [
    "在crewai中，Agent相当于团队中的一个成员，不同代理具有不同的角色、擅长领域及内在知识，Agent有以下作用：\n",
    "\n",
    "1. 绑定到任务中，让其执行特定任务\n",
    "2. 根据角色和目标作出决策\n",
    "3. 使用工具\n",
    "4. 与其他代理进行沟通\n",
    "5. 委派任务给其他代理\n",
    "\n",
    "总之一句话，Agent有自己的知识及解决工具，当自己能力不足时，可以请求团队内其他人协助"
   ]
  },
  {
   "cell_type": "markdown",
   "id": "d0860ec0-e33f-4e7b-94f7-7436c5009e5f",
   "metadata": {},
   "source": [
    "关键参数：\n",
    "\n",
    "|属性|参数|类型|描述|\n",
    "|---|---|---|---|\n",
    "|角色|role|str|定义代理在团队中的职能和专业知识。|\n",
    "|目标|goal|str|指导代理决策的单个目标。|\n",
    "|背景故事|backstory|str|为代理提供上下文和个性，丰富交互。|\n",
    "|LLM（可选）|llm|Union[str, LLM, Any]|为代理提供支持的语言模型。默认为 “gpt-4” 中指定的模型。OPENAI_MODEL_NAME|\n",
    "|工具（可选）|tools|List[BaseTool]|代理可用的功能。默认为空列表。|\n",
    "|函数调用 LLM（可选）|function_calling_llm|Optional[Any]|用于工具调用的语言模型，如果指定，则覆盖班组的 LLM。|\n",
    "|内存（可选）|memory|bool|代理是否应维护交互的记忆。默认值为 True。|\n",
    "|详细 （可选）|verbose|bool|启用详细的执行日志以进行调试。默认值为 False。|\n",
    "|允许委派（可选）|allow_delegation|bool|允许代理将任务委派给其他代理。默认值为 False。|\n",
    "|缓存 （可选）|cache|bool|为工具使用启用缓存。默认值为 True。|\n",
    "|系统模板（可选）|system_template|Optional[str]|代理的自定义系统提示模板。|\n",
    "|提示模板 （可选）|prompt_template|Optional[str]|代理的自定义提示模板。|\n",
    "|响应模板（可选）|response_template|Optional[str]|代理的自定义响应模板。|\n",
    "|允许代码执行（可选）|allow_code_execution|Optional[bool]|为代理启用代码执行。默认值为 False。|\n",
    "|Embedder Config（可选）|embedder_config|Optional[Dict[str, Any]]|代理使用的嵌入器的配置。|"
   ]
  },
  {
   "cell_type": "code",
   "execution_count": 32,
   "id": "ad642ec4-4ae8-4a81-b297-3c60889a3c30",
   "metadata": {
    "execution": {
     "iopub.execute_input": "2024-12-10T02:51:52.101410Z",
     "iopub.status.busy": "2024-12-10T02:51:52.100528Z",
     "iopub.status.idle": "2024-12-10T02:51:52.129546Z",
     "shell.execute_reply": "2024-12-10T02:51:52.127502Z",
     "shell.execute_reply.started": "2024-12-10T02:51:52.101410Z"
    }
   },
   "outputs": [],
   "source": [
    "# 定义Agent\n",
    "from api_key import SERPER_API_KEY,TAVILY_API_KEY\n",
    "import os\n",
    "os.environ[\"SERPER_API_KEY\"] = SERPER_API_KEY  # serper.dev API key\n",
    "\n",
    "\n",
    "\n",
    "from crewai import  Agent\n",
    "from crewai_tools import SerperDevTool\n",
    "from crewai.llm import LLM\n",
    "\n",
    "\n",
    "cv_agent=Agent(\n",
    "    role=\"计算机视觉工程师\",\n",
    "    goal=\"查找并理解计算机视觉工程师的工作内容，熟悉的代码和工具\",\n",
    "    backstory = \"已经在计算机视觉领域工作5年，有丰富的计算机视觉经验，尤其是在工业缺陷检测方面\",\n",
    "    llm=LLM(\n",
    "        model=\"ollama_chat/llama3.1:latest\", \n",
    "        base_url=\"http://192.168.3.155:11434\"),\n",
    "    memory=True,\n",
    "    verbose=True,\n",
    "    tools=[SerperDevTool(n_results=3)],\n",
    "    embedder_config={\n",
    "        \"provider\": \"ollama\",\n",
    "        \"config\": {\n",
    "            \"model\": 'quentinz/bge-large-zh-v1.5:latest',\n",
    "            \"base_url\": 'http://localhost:11434'\n",
    "        }\n",
    "    }\n",
    ")\n",
    "\n",
    "nlp_agent=Agent(\n",
    "    role=\"自然语言开发工程师\",\n",
    "    goal=\"查找并理解计算机视觉工程师的工作内容，熟悉的代码和工具\",\n",
    "    backstory = \"已经在自然语言开发领域工作10年，有丰富的自然语言开发经验\",\n",
    "    llm=LLM(\n",
    "        model=\"ollama_chat/llama3.1:latest\", \n",
    "        base_url=\"http://192.168.3.155:11434\"),\n",
    "    memory=True,\n",
    "    verbose=True,\n",
    "    tools=[SerperDevTool(n_results=3)],\n",
    "    embedder_config={\n",
    "        \"provider\": \"ollama\",\n",
    "        \"config\": {\n",
    "            \"model\": 'quentinz/bge-large-zh-v1.5:latest',\n",
    "            \"base_url\": 'http://localhost:11434'\n",
    "        }\n",
    "    }\n",
    ")"
   ]
  },
  {
   "cell_type": "code",
   "execution_count": 33,
   "id": "86595e2a-2bd2-4019-a9e1-322ad10496bf",
   "metadata": {
    "execution": {
     "iopub.execute_input": "2024-12-10T02:51:59.900867Z",
     "iopub.status.busy": "2024-12-10T02:51:59.900867Z",
     "iopub.status.idle": "2024-12-10T02:51:59.923961Z",
     "shell.execute_reply": "2024-12-10T02:51:59.920960Z",
     "shell.execute_reply.started": "2024-12-10T02:51:59.900867Z"
    }
   },
   "outputs": [
    {
     "data": {
      "text/plain": [
       "(Agent(role=计算机视觉工程师, goal=查找并理解计算机视觉工程师的工作内容，熟悉的代码和工具, backstory=已经在计算机视觉领域工作5年，有丰富的计算机视觉经验),\n",
       " Agent(role=自然语言开发工程师, goal=查找并理解计算机视觉工程师的工作内容，熟悉的代码和工具, backstory=已经在自然语言开发领域工作10年，有丰富的自然语言开发经验))"
      ]
     },
     "execution_count": 33,
     "metadata": {},
     "output_type": "execute_result"
    }
   ],
   "source": [
    "cv_agent,nlp_agent"
   ]
  },
  {
   "cell_type": "markdown",
   "id": "bb6d3cd5-e7e5-4351-9d68-75224d2d855b",
   "metadata": {},
   "source": [
    "Agent的初始化需要提供role、goal、backstory，最后还会绑定到特定任务上，这些概念有重叠，应该如何设计？以下列举官方的例子\n",
    "\n",
    "|role|goal|backstory|\n",
    "|---|---|---|\n",
    "|研究分析师|查找并总结有关特定主题的信息|你是一位经验丰富的研究人员，注重细节|\n",
    "|高级数据科学家|分析和解释复杂的数据集，提供可操作的见解|拥有超过10年的数据科学和机器学习经验，你擅长在复杂的数据集中发现模式|\n",
    "|高级Python开发人员|编写和调试Python代码|拥有10年经验的专业Python开发人员|\n",
    "|数据分析师|对大型数据集进行深入分析|擅长大数据分析和模式识别|\n",
    "|客户服务代表|协助客户解决他们的问题|有丰富的客户支持经验，注重客户满意度|\n",
    "\n",
    "可以看出以下内容：\n",
    "- role：Agent的角色定位，相当于团队中的岗位\n",
    "- goal：Agent的目标，相当于岗位职责\n",
    "- backstory：Agent历史，该角色的历史经验、擅长内容"
   ]
  }
 ],
 "metadata": {
  "kernelspec": {
   "display_name": "Python 3 (ipykernel)",
   "language": "python",
   "name": "python3"
  },
  "language_info": {
   "codemirror_mode": {
    "name": "ipython",
    "version": 3
   },
   "file_extension": ".py",
   "mimetype": "text/x-python",
   "name": "python",
   "nbconvert_exporter": "python",
   "pygments_lexer": "ipython3",
   "version": "3.10.14"
  }
 },
 "nbformat": 4,
 "nbformat_minor": 5
}
