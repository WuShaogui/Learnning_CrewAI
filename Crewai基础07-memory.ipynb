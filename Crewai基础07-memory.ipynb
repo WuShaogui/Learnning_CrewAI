{
 "cells": [
  {
   "cell_type": "markdown",
   "id": "b67d5ef3-c52e-4a92-a830-db3a0aef6538",
   "metadata": {},
   "source": [
    "多agent不是简单的多个agent顺序执行，而是具有不同层次的共享记忆，这些记忆具有以下作用：\n",
    "\n",
    "- **自适应学习**: Crew 随着时间变得更加高效，适应新信息并改进其处理任务的方法。\n",
    "- **增强个性化**: 记忆使代理能够记住用户偏好和历史互动，从而产生个性化的体验。\n",
    "- **问题解决能力提升**： 访问丰富的记忆库有助于代理人做出更明智的决策，借鉴过去的学习和情境洞察。"
   ]
  },
  {
   "cell_type": "code",
   "execution_count": 1,
   "id": "268996d0-4904-479f-8308-9a84ef8e1c79",
   "metadata": {
    "execution": {
     "iopub.execute_input": "2024-12-11T01:53:38.053277Z",
     "iopub.status.busy": "2024-12-11T01:53:38.051253Z",
     "iopub.status.idle": "2024-12-11T01:53:52.694388Z",
     "shell.execute_reply": "2024-12-11T01:53:52.692940Z",
     "shell.execute_reply.started": "2024-12-11T01:53:38.053277Z"
    }
   },
   "outputs": [
    {
     "name": "stdout",
     "output_type": "stream",
     "text": [
      "\u001b[1;31mInit signature:\u001b[0m\n",
      "\u001b[0mCrew\u001b[0m\u001b[1;33m(\u001b[0m\u001b[1;33m\n",
      "\u001b[0m    \u001b[1;33m*\u001b[0m\u001b[1;33m,\u001b[0m\u001b[1;33m\n",
      "\u001b[0m    \u001b[0mname\u001b[0m\u001b[1;33m:\u001b[0m \u001b[0mOptional\u001b[0m\u001b[1;33m[\u001b[0m\u001b[0mstr\u001b[0m\u001b[1;33m]\u001b[0m \u001b[1;33m=\u001b[0m \u001b[1;32mNone\u001b[0m\u001b[1;33m,\u001b[0m\u001b[1;33m\n",
      "\u001b[0m    \u001b[0mcache\u001b[0m\u001b[1;33m:\u001b[0m \u001b[0mbool\u001b[0m \u001b[1;33m=\u001b[0m \u001b[1;32mTrue\u001b[0m\u001b[1;33m,\u001b[0m\u001b[1;33m\n",
      "\u001b[0m    \u001b[0mtasks\u001b[0m\u001b[1;33m:\u001b[0m \u001b[0mList\u001b[0m\u001b[1;33m[\u001b[0m\u001b[0mcrewai\u001b[0m\u001b[1;33m.\u001b[0m\u001b[0mtask\u001b[0m\u001b[1;33m.\u001b[0m\u001b[0mTask\u001b[0m\u001b[1;33m]\u001b[0m \u001b[1;33m=\u001b[0m \u001b[1;32mNone\u001b[0m\u001b[1;33m,\u001b[0m\u001b[1;33m\n",
      "\u001b[0m    \u001b[0magents\u001b[0m\u001b[1;33m:\u001b[0m \u001b[0mList\u001b[0m\u001b[1;33m[\u001b[0m\u001b[0mcrewai\u001b[0m\u001b[1;33m.\u001b[0m\u001b[0magents\u001b[0m\u001b[1;33m.\u001b[0m\u001b[0magent_builder\u001b[0m\u001b[1;33m.\u001b[0m\u001b[0mbase_agent\u001b[0m\u001b[1;33m.\u001b[0m\u001b[0mBaseAgent\u001b[0m\u001b[1;33m]\u001b[0m \u001b[1;33m=\u001b[0m \u001b[1;32mNone\u001b[0m\u001b[1;33m,\u001b[0m\u001b[1;33m\n",
      "\u001b[0m    \u001b[0mprocess\u001b[0m\u001b[1;33m:\u001b[0m \u001b[0mcrewai\u001b[0m\u001b[1;33m.\u001b[0m\u001b[0mprocess\u001b[0m\u001b[1;33m.\u001b[0m\u001b[0mProcess\u001b[0m \u001b[1;33m=\u001b[0m \u001b[1;33m<\u001b[0m\u001b[0mProcess\u001b[0m\u001b[1;33m.\u001b[0m\u001b[0msequential\u001b[0m\u001b[1;33m:\u001b[0m \u001b[1;34m'sequential'\u001b[0m\u001b[1;33m>\u001b[0m\u001b[1;33m,\u001b[0m\u001b[1;33m\n",
      "\u001b[0m    \u001b[0mverbose\u001b[0m\u001b[1;33m:\u001b[0m \u001b[0mbool\u001b[0m \u001b[1;33m=\u001b[0m \u001b[1;32mFalse\u001b[0m\u001b[1;33m,\u001b[0m\u001b[1;33m\n",
      "\u001b[0m    \u001b[0mmemory\u001b[0m\u001b[1;33m:\u001b[0m \u001b[0mbool\u001b[0m \u001b[1;33m=\u001b[0m \u001b[1;32mFalse\u001b[0m\u001b[1;33m,\u001b[0m\u001b[1;33m\n",
      "\u001b[0m    \u001b[0mmemory_config\u001b[0m\u001b[1;33m:\u001b[0m \u001b[0mOptional\u001b[0m\u001b[1;33m[\u001b[0m\u001b[0mDict\u001b[0m\u001b[1;33m[\u001b[0m\u001b[0mstr\u001b[0m\u001b[1;33m,\u001b[0m \u001b[0mAny\u001b[0m\u001b[1;33m]\u001b[0m\u001b[1;33m]\u001b[0m \u001b[1;33m=\u001b[0m \u001b[1;32mNone\u001b[0m\u001b[1;33m,\u001b[0m\u001b[1;33m\n",
      "\u001b[0m    \u001b[0mshort_term_memory\u001b[0m\u001b[1;33m:\u001b[0m \u001b[0mOptional\u001b[0m\u001b[1;33m[\u001b[0m\u001b[0mAnnotated\u001b[0m\u001b[1;33m[\u001b[0m\u001b[0mcrewai\u001b[0m\u001b[1;33m.\u001b[0m\u001b[0mmemory\u001b[0m\u001b[1;33m.\u001b[0m\u001b[0mshort_term\u001b[0m\u001b[1;33m.\u001b[0m\u001b[0mshort_term_memory\u001b[0m\u001b[1;33m.\u001b[0m\u001b[0mShortTermMemory\u001b[0m\u001b[1;33m,\u001b[0m \u001b[0mInstanceOf\u001b[0m\u001b[1;33m(\u001b[0m\u001b[1;33m)\u001b[0m\u001b[1;33m]\u001b[0m\u001b[1;33m]\u001b[0m \u001b[1;33m=\u001b[0m \u001b[1;32mNone\u001b[0m\u001b[1;33m,\u001b[0m\u001b[1;33m\n",
      "\u001b[0m    \u001b[0mlong_term_memory\u001b[0m\u001b[1;33m:\u001b[0m \u001b[0mOptional\u001b[0m\u001b[1;33m[\u001b[0m\u001b[0mAnnotated\u001b[0m\u001b[1;33m[\u001b[0m\u001b[0mcrewai\u001b[0m\u001b[1;33m.\u001b[0m\u001b[0mmemory\u001b[0m\u001b[1;33m.\u001b[0m\u001b[0mlong_term\u001b[0m\u001b[1;33m.\u001b[0m\u001b[0mlong_term_memory\u001b[0m\u001b[1;33m.\u001b[0m\u001b[0mLongTermMemory\u001b[0m\u001b[1;33m,\u001b[0m \u001b[0mInstanceOf\u001b[0m\u001b[1;33m(\u001b[0m\u001b[1;33m)\u001b[0m\u001b[1;33m]\u001b[0m\u001b[1;33m]\u001b[0m \u001b[1;33m=\u001b[0m \u001b[1;32mNone\u001b[0m\u001b[1;33m,\u001b[0m\u001b[1;33m\n",
      "\u001b[0m    \u001b[0mentity_memory\u001b[0m\u001b[1;33m:\u001b[0m \u001b[0mOptional\u001b[0m\u001b[1;33m[\u001b[0m\u001b[0mAnnotated\u001b[0m\u001b[1;33m[\u001b[0m\u001b[0mcrewai\u001b[0m\u001b[1;33m.\u001b[0m\u001b[0mmemory\u001b[0m\u001b[1;33m.\u001b[0m\u001b[0mentity\u001b[0m\u001b[1;33m.\u001b[0m\u001b[0mentity_memory\u001b[0m\u001b[1;33m.\u001b[0m\u001b[0mEntityMemory\u001b[0m\u001b[1;33m,\u001b[0m \u001b[0mInstanceOf\u001b[0m\u001b[1;33m(\u001b[0m\u001b[1;33m)\u001b[0m\u001b[1;33m]\u001b[0m\u001b[1;33m]\u001b[0m \u001b[1;33m=\u001b[0m \u001b[1;32mNone\u001b[0m\u001b[1;33m,\u001b[0m\u001b[1;33m\n",
      "\u001b[0m    \u001b[0muser_memory\u001b[0m\u001b[1;33m:\u001b[0m \u001b[0mOptional\u001b[0m\u001b[1;33m[\u001b[0m\u001b[0mAnnotated\u001b[0m\u001b[1;33m[\u001b[0m\u001b[0mcrewai\u001b[0m\u001b[1;33m.\u001b[0m\u001b[0mmemory\u001b[0m\u001b[1;33m.\u001b[0m\u001b[0muser\u001b[0m\u001b[1;33m.\u001b[0m\u001b[0muser_memory\u001b[0m\u001b[1;33m.\u001b[0m\u001b[0mUserMemory\u001b[0m\u001b[1;33m,\u001b[0m \u001b[0mInstanceOf\u001b[0m\u001b[1;33m(\u001b[0m\u001b[1;33m)\u001b[0m\u001b[1;33m]\u001b[0m\u001b[1;33m]\u001b[0m \u001b[1;33m=\u001b[0m \u001b[1;32mNone\u001b[0m\u001b[1;33m,\u001b[0m\u001b[1;33m\n",
      "\u001b[0m    \u001b[0membedder\u001b[0m\u001b[1;33m:\u001b[0m \u001b[0mOptional\u001b[0m\u001b[1;33m[\u001b[0m\u001b[0mdict\u001b[0m\u001b[1;33m]\u001b[0m \u001b[1;33m=\u001b[0m \u001b[1;32mNone\u001b[0m\u001b[1;33m,\u001b[0m\u001b[1;33m\n",
      "\u001b[0m    \u001b[0musage_metrics\u001b[0m\u001b[1;33m:\u001b[0m \u001b[0mOptional\u001b[0m\u001b[1;33m[\u001b[0m\u001b[0mcrewai\u001b[0m\u001b[1;33m.\u001b[0m\u001b[0mtypes\u001b[0m\u001b[1;33m.\u001b[0m\u001b[0musage_metrics\u001b[0m\u001b[1;33m.\u001b[0m\u001b[0mUsageMetrics\u001b[0m\u001b[1;33m]\u001b[0m \u001b[1;33m=\u001b[0m \u001b[1;32mNone\u001b[0m\u001b[1;33m,\u001b[0m\u001b[1;33m\n",
      "\u001b[0m    \u001b[0mmanager_llm\u001b[0m\u001b[1;33m:\u001b[0m \u001b[0mOptional\u001b[0m\u001b[1;33m[\u001b[0m\u001b[0mAny\u001b[0m\u001b[1;33m]\u001b[0m \u001b[1;33m=\u001b[0m \u001b[1;32mNone\u001b[0m\u001b[1;33m,\u001b[0m\u001b[1;33m\n",
      "\u001b[0m    \u001b[0mmanager_agent\u001b[0m\u001b[1;33m:\u001b[0m \u001b[0mOptional\u001b[0m\u001b[1;33m[\u001b[0m\u001b[0mcrewai\u001b[0m\u001b[1;33m.\u001b[0m\u001b[0magents\u001b[0m\u001b[1;33m.\u001b[0m\u001b[0magent_builder\u001b[0m\u001b[1;33m.\u001b[0m\u001b[0mbase_agent\u001b[0m\u001b[1;33m.\u001b[0m\u001b[0mBaseAgent\u001b[0m\u001b[1;33m]\u001b[0m \u001b[1;33m=\u001b[0m \u001b[1;32mNone\u001b[0m\u001b[1;33m,\u001b[0m\u001b[1;33m\n",
      "\u001b[0m    \u001b[0mfunction_calling_llm\u001b[0m\u001b[1;33m:\u001b[0m \u001b[0mOptional\u001b[0m\u001b[1;33m[\u001b[0m\u001b[0mAny\u001b[0m\u001b[1;33m]\u001b[0m \u001b[1;33m=\u001b[0m \u001b[1;32mNone\u001b[0m\u001b[1;33m,\u001b[0m\u001b[1;33m\n",
      "\u001b[0m    \u001b[0mconfig\u001b[0m\u001b[1;33m:\u001b[0m \u001b[0mUnion\u001b[0m\u001b[1;33m[\u001b[0m\u001b[0mpydantic\u001b[0m\u001b[1;33m.\u001b[0m\u001b[0mtypes\u001b[0m\u001b[1;33m.\u001b[0m\u001b[0mJson\u001b[0m\u001b[1;33m,\u001b[0m \u001b[0mDict\u001b[0m\u001b[1;33m[\u001b[0m\u001b[0mstr\u001b[0m\u001b[1;33m,\u001b[0m \u001b[0mAny\u001b[0m\u001b[1;33m]\u001b[0m\u001b[1;33m,\u001b[0m \u001b[0mNoneType\u001b[0m\u001b[1;33m]\u001b[0m \u001b[1;33m=\u001b[0m \u001b[1;32mNone\u001b[0m\u001b[1;33m,\u001b[0m\u001b[1;33m\n",
      "\u001b[0m    \u001b[0mid\u001b[0m\u001b[1;33m:\u001b[0m \u001b[0mtyping\u001b[0m\u001b[1;33m.\u001b[0m\u001b[0mAnnotated\u001b[0m\u001b[1;33m[\u001b[0m\u001b[0muuid\u001b[0m\u001b[1;33m.\u001b[0m\u001b[0mUUID\u001b[0m\u001b[1;33m,\u001b[0m \u001b[0mUuidVersion\u001b[0m\u001b[1;33m(\u001b[0m\u001b[0muuid_version\u001b[0m\u001b[1;33m=\u001b[0m\u001b[1;36m4\u001b[0m\u001b[1;33m)\u001b[0m\u001b[1;33m]\u001b[0m \u001b[1;33m=\u001b[0m \u001b[1;32mNone\u001b[0m\u001b[1;33m,\u001b[0m\u001b[1;33m\n",
      "\u001b[0m    \u001b[0mshare_crew\u001b[0m\u001b[1;33m:\u001b[0m \u001b[0mOptional\u001b[0m\u001b[1;33m[\u001b[0m\u001b[0mbool\u001b[0m\u001b[1;33m]\u001b[0m \u001b[1;33m=\u001b[0m \u001b[1;32mFalse\u001b[0m\u001b[1;33m,\u001b[0m\u001b[1;33m\n",
      "\u001b[0m    \u001b[0mstep_callback\u001b[0m\u001b[1;33m:\u001b[0m \u001b[0mOptional\u001b[0m\u001b[1;33m[\u001b[0m\u001b[0mAny\u001b[0m\u001b[1;33m]\u001b[0m \u001b[1;33m=\u001b[0m \u001b[1;32mNone\u001b[0m\u001b[1;33m,\u001b[0m\u001b[1;33m\n",
      "\u001b[0m    \u001b[0mtask_callback\u001b[0m\u001b[1;33m:\u001b[0m \u001b[0mOptional\u001b[0m\u001b[1;33m[\u001b[0m\u001b[0mAny\u001b[0m\u001b[1;33m]\u001b[0m \u001b[1;33m=\u001b[0m \u001b[1;32mNone\u001b[0m\u001b[1;33m,\u001b[0m\u001b[1;33m\n",
      "\u001b[0m    \u001b[0mbefore_kickoff_callbacks\u001b[0m\u001b[1;33m:\u001b[0m \u001b[0mList\u001b[0m\u001b[1;33m[\u001b[0m\u001b[0mCallable\u001b[0m\u001b[1;33m[\u001b[0m\u001b[1;33m[\u001b[0m\u001b[0mOptional\u001b[0m\u001b[1;33m[\u001b[0m\u001b[0mDict\u001b[0m\u001b[1;33m[\u001b[0m\u001b[0mstr\u001b[0m\u001b[1;33m,\u001b[0m \u001b[0mAny\u001b[0m\u001b[1;33m]\u001b[0m\u001b[1;33m]\u001b[0m\u001b[1;33m]\u001b[0m\u001b[1;33m,\u001b[0m \u001b[0mOptional\u001b[0m\u001b[1;33m[\u001b[0m\u001b[0mDict\u001b[0m\u001b[1;33m[\u001b[0m\u001b[0mstr\u001b[0m\u001b[1;33m,\u001b[0m \u001b[0mAny\u001b[0m\u001b[1;33m]\u001b[0m\u001b[1;33m]\u001b[0m\u001b[1;33m]\u001b[0m\u001b[1;33m]\u001b[0m \u001b[1;33m=\u001b[0m \u001b[1;32mNone\u001b[0m\u001b[1;33m,\u001b[0m\u001b[1;33m\n",
      "\u001b[0m    \u001b[0mafter_kickoff_callbacks\u001b[0m\u001b[1;33m:\u001b[0m \u001b[0mList\u001b[0m\u001b[1;33m[\u001b[0m\u001b[0mCallable\u001b[0m\u001b[1;33m[\u001b[0m\u001b[1;33m[\u001b[0m\u001b[0mcrewai\u001b[0m\u001b[1;33m.\u001b[0m\u001b[0mcrews\u001b[0m\u001b[1;33m.\u001b[0m\u001b[0mcrew_output\u001b[0m\u001b[1;33m.\u001b[0m\u001b[0mCrewOutput\u001b[0m\u001b[1;33m]\u001b[0m\u001b[1;33m,\u001b[0m \u001b[0mcrewai\u001b[0m\u001b[1;33m.\u001b[0m\u001b[0mcrews\u001b[0m\u001b[1;33m.\u001b[0m\u001b[0mcrew_output\u001b[0m\u001b[1;33m.\u001b[0m\u001b[0mCrewOutput\u001b[0m\u001b[1;33m]\u001b[0m\u001b[1;33m]\u001b[0m \u001b[1;33m=\u001b[0m \u001b[1;32mNone\u001b[0m\u001b[1;33m,\u001b[0m\u001b[1;33m\n",
      "\u001b[0m    \u001b[0mmax_rpm\u001b[0m\u001b[1;33m:\u001b[0m \u001b[0mOptional\u001b[0m\u001b[1;33m[\u001b[0m\u001b[0mint\u001b[0m\u001b[1;33m]\u001b[0m \u001b[1;33m=\u001b[0m \u001b[1;32mNone\u001b[0m\u001b[1;33m,\u001b[0m\u001b[1;33m\n",
      "\u001b[0m    \u001b[0mprompt_file\u001b[0m\u001b[1;33m:\u001b[0m \u001b[0mstr\u001b[0m \u001b[1;33m=\u001b[0m \u001b[1;32mNone\u001b[0m\u001b[1;33m,\u001b[0m\u001b[1;33m\n",
      "\u001b[0m    \u001b[0moutput_log_file\u001b[0m\u001b[1;33m:\u001b[0m \u001b[0mOptional\u001b[0m\u001b[1;33m[\u001b[0m\u001b[0mstr\u001b[0m\u001b[1;33m]\u001b[0m \u001b[1;33m=\u001b[0m \u001b[1;32mNone\u001b[0m\u001b[1;33m,\u001b[0m\u001b[1;33m\n",
      "\u001b[0m    \u001b[0mplanning\u001b[0m\u001b[1;33m:\u001b[0m \u001b[0mOptional\u001b[0m\u001b[1;33m[\u001b[0m\u001b[0mbool\u001b[0m\u001b[1;33m]\u001b[0m \u001b[1;33m=\u001b[0m \u001b[1;32mFalse\u001b[0m\u001b[1;33m,\u001b[0m\u001b[1;33m\n",
      "\u001b[0m    \u001b[0mplanning_llm\u001b[0m\u001b[1;33m:\u001b[0m \u001b[0mOptional\u001b[0m\u001b[1;33m[\u001b[0m\u001b[0mAny\u001b[0m\u001b[1;33m]\u001b[0m \u001b[1;33m=\u001b[0m \u001b[1;32mNone\u001b[0m\u001b[1;33m,\u001b[0m\u001b[1;33m\n",
      "\u001b[0m    \u001b[0mtask_execution_output_json_files\u001b[0m\u001b[1;33m:\u001b[0m \u001b[0mOptional\u001b[0m\u001b[1;33m[\u001b[0m\u001b[0mList\u001b[0m\u001b[1;33m[\u001b[0m\u001b[0mstr\u001b[0m\u001b[1;33m]\u001b[0m\u001b[1;33m]\u001b[0m \u001b[1;33m=\u001b[0m \u001b[1;32mNone\u001b[0m\u001b[1;33m,\u001b[0m\u001b[1;33m\n",
      "\u001b[0m    \u001b[0mexecution_logs\u001b[0m\u001b[1;33m:\u001b[0m \u001b[0mList\u001b[0m\u001b[1;33m[\u001b[0m\u001b[0mDict\u001b[0m\u001b[1;33m[\u001b[0m\u001b[0mstr\u001b[0m\u001b[1;33m,\u001b[0m \u001b[0mAny\u001b[0m\u001b[1;33m]\u001b[0m\u001b[1;33m]\u001b[0m \u001b[1;33m=\u001b[0m \u001b[1;33m[\u001b[0m\u001b[1;33m]\u001b[0m\u001b[1;33m,\u001b[0m\u001b[1;33m\n",
      "\u001b[0m    \u001b[0mknowledge_sources\u001b[0m\u001b[1;33m:\u001b[0m \u001b[0mOptional\u001b[0m\u001b[1;33m[\u001b[0m\u001b[0mList\u001b[0m\u001b[1;33m[\u001b[0m\u001b[0mcrewai\u001b[0m\u001b[1;33m.\u001b[0m\u001b[0mknowledge\u001b[0m\u001b[1;33m.\u001b[0m\u001b[0msource\u001b[0m\u001b[1;33m.\u001b[0m\u001b[0mbase_knowledge_source\u001b[0m\u001b[1;33m.\u001b[0m\u001b[0mBaseKnowledgeSource\u001b[0m\u001b[1;33m]\u001b[0m\u001b[1;33m]\u001b[0m \u001b[1;33m=\u001b[0m \u001b[1;32mNone\u001b[0m\u001b[1;33m,\u001b[0m\u001b[1;33m\n",
      "\u001b[0m\u001b[1;33m)\u001b[0m \u001b[1;33m->\u001b[0m \u001b[1;32mNone\u001b[0m\u001b[1;33m\u001b[0m\u001b[1;33m\u001b[0m\u001b[0m\n",
      "\u001b[1;31mDocstring:\u001b[0m     \n",
      "Represents a group of agents, defining how they should collaborate and the tasks they should perform.\n",
      "\n",
      "Attributes:\n",
      "    tasks: List of tasks assigned to the crew.\n",
      "    agents: List of agents part of this crew.\n",
      "    manager_llm: The language model that will run manager agent.\n",
      "    manager_agent: Custom agent that will be used as manager.\n",
      "    memory: Whether the crew should use memory to store memories of it's execution.\n",
      "    memory_config: Configuration for the memory to be used for the crew.\n",
      "    cache: Whether the crew should use a cache to store the results of the tools execution.\n",
      "    function_calling_llm: The language model that will run the tool calling for all the agents.\n",
      "    process: The process flow that the crew will follow (e.g., sequential, hierarchical).\n",
      "    verbose: Indicates the verbosity level for logging during execution.\n",
      "    config: Configuration settings for the crew.\n",
      "    max_rpm: Maximum number of requests per minute for the crew execution to be respected.\n",
      "    prompt_file: Path to the prompt json file to be used for the crew.\n",
      "    id: A unique identifier for the crew instance.\n",
      "    task_callback: Callback to be executed after each task for every agents execution.\n",
      "    step_callback: Callback to be executed after each step for every agents execution.\n",
      "    share_crew: Whether you want to share the complete crew information and execution with crewAI to make the library better, and allow us to train models.\n",
      "    planning: Plan the crew execution and add the plan to the crew.\n",
      "\u001b[1;31mInit docstring:\u001b[0m\n",
      "Create a new model by parsing and validating input data from keyword arguments.\n",
      "\n",
      "Raises [`ValidationError`][pydantic_core.ValidationError] if the input data cannot be\n",
      "validated to form a valid model.\n",
      "\n",
      "`self` is explicitly positional-only to allow `self` as a field name.\n",
      "\u001b[1;31mFile:\u001b[0m           c:\\users\\wushaogui\\miniconda3\\lib\\site-packages\\crewai\\crew.py\n",
      "\u001b[1;31mType:\u001b[0m           ModelMetaclass\n",
      "\u001b[1;31mSubclasses:\u001b[0m     "
     ]
    }
   ],
   "source": [
    "from crewai import Crew\n",
    "Crew?"
   ]
  },
  {
   "cell_type": "markdown",
   "id": "83321ad3-87b4-4f6e-bfa0-286ec1bba635",
   "metadata": {},
   "source": [
    "看到里面存在以下关于记忆相关的参数：\n",
    "\n",
    "```python\n",
    "memory: bool = False,\n",
    "memory_config: Optional[Dict[str, Any]] = None,\n",
    "\n",
    "short_term_memory: Optional[Annotated[crewai.memory.short_term.short_term_memory.ShortTermMemory, InstanceOf()]] = None,\n",
    "long_term_memory: Optional[Annotated[crewai.memory.long_term.long_term_memory.LongTermMemory, InstanceOf()]] = None,\n",
    "entity_memory: Optional[Annotated[crewai.memory.entity.entity_memory.EntityMemory, InstanceOf()]] = None,\n",
    "user_memory: Optional[Annotated[crewai.memory.user.user_memory.UserMemory, InstanceOf()]] = None,\n",
    "\n",
    "embedder: Optional[dict] = None,\n",
    "knowledge_sources: Optional[List[crewai.knowledge.source.base_knowledge_source.BaseKnowledgeSource]] = None,\n",
    "```\n",
    "\n",
    "里面的四个记忆，即短期记忆、长期记忆、实体记忆和新识别的情境记忆，每种记忆都在帮助代理记住、推理和从过去的互动中学习方面发挥着独特的作用\n",
    "\n",
    "|组件|描述|\n",
    "|---|---|\n",
    "|短期记忆|暂时存储最近的互动和结果，使代理能够回忆和利用与当前情境相关的信息。|\n",
    "|长期记忆|保存从过去执行中获得的宝贵见解和学习，使代理能够随着时间的推移建立和完善知识。|\n",
    "|实体记忆|捕获和组织在任务中遇到的实体（人、地点、概念）的信息，促进对复杂信息的深入理解和关系映射。|\n",
    "|情境记忆|保持互动的情境，有助于代理在一系列任务或对话中的响应连贯性和相关性。|\n",
    "\n",
    "通过以上的记忆，能增强agent的以下能力：\n",
    "\n",
    "- **情境意识**: 通过短期记忆和情境记忆，代理可以在对话或任务序列中保持情境，从而产生更连贯和相关的回应。\n",
    "- **经验积累**: 长期记忆使代理能够积累经验，从过去的行动中学习，以改进未来的决策和问题解决能力。\n",
    "- **实体理解**: 通过保持实体记忆，代理可以识别和记住关键实体，增强其处理和交互复杂信息的能力"
   ]
  },
  {
   "cell_type": "code",
   "execution_count": 2,
   "id": "2eb6403c-45ee-4e48-b6db-01c057f39e37",
   "metadata": {
    "execution": {
     "iopub.execute_input": "2024-12-11T01:53:52.699403Z",
     "iopub.status.busy": "2024-12-11T01:53:52.697408Z",
     "iopub.status.idle": "2024-12-11T01:53:54.350749Z",
     "shell.execute_reply": "2024-12-11T01:53:54.349394Z",
     "shell.execute_reply.started": "2024-12-11T01:53:52.699403Z"
    }
   },
   "outputs": [],
   "source": [
    "import os\n",
    "os.environ['LITELLM_LOG'] = 'DEBUG'\n",
    "import litellm\n",
    "litellm.suppress_debug_info=True\n",
    "\n",
    "# 定义互联网检索工具\n",
    "import os\n",
    "import api_key\n",
    "os.environ['TAVILY_API_KEY']=api_key.TAVILY_API_KEY\n",
    "from langchain_community.tools.tavily_search import TavilySearchResults\n",
    "\n",
    "# 定义工具\n",
    "search = TavilySearchResults(max_results=1)\n",
    "\n",
    "from pydantic import Field\n",
    "from crewai.tools import BaseTool\n",
    "class SearchTool(BaseTool):\n",
    "    name: str = \"Search\"\n",
    "    description: str = \"Useful for search-based queries. Use this to find current information about markets, companies, and trends.\"\n",
    "    search: TavilySearchResults = Field(default_factory=TavilySearchResults)\n",
    "\n",
    "    def _run(self, query: str) -> str:\n",
    "        \"\"\"Execute the search query and return results\"\"\"\n",
    "        try:\n",
    "            return self.search.run(query)\n",
    "        except Exception as e:\n",
    "            return f\"Error performing search: {str(e)}\""
   ]
  },
  {
   "cell_type": "code",
   "execution_count": 3,
   "id": "645659e1-8e8c-4285-a327-599a1dff9c11",
   "metadata": {
    "execution": {
     "iopub.execute_input": "2024-12-11T01:53:54.360676Z",
     "iopub.status.busy": "2024-12-11T01:53:54.355667Z",
     "iopub.status.idle": "2024-12-11T01:54:00.005729Z",
     "shell.execute_reply": "2024-12-11T01:54:00.004733Z",
     "shell.execute_reply.started": "2024-12-11T01:53:54.360676Z"
    }
   },
   "outputs": [],
   "source": [
    "# 定义Agent\n",
    "from api_key import SERPER_API_KEY,TAVILY_API_KEY\n",
    "import os\n",
    "os.environ[\"SERPER_API_KEY\"] = SERPER_API_KEY  # serper.dev API key\n",
    "\n",
    "from crewai import  Agent\n",
    "from crewai_tools import SerperDevTool\n",
    "from crewai.llm import LLM\n",
    "\n",
    "\n",
    "llm=LLM(\n",
    "    model=\"ollama_chat/qwen2.5:latest\", \n",
    "    base_url=\"http://192.168.3.155:11434\")\n",
    "embedder_config={\n",
    "    \"provider\": \"ollama\",\n",
    "    \"config\": {\n",
    "        \"model\": 'quentinz/bge-large-zh-v1.5:latest',\n",
    "        \"base_url\": 'http://192.168.3.155:11434'\n",
    "    }\n",
    "}\n",
    "\n",
    "# search_tool=SerperDevTool(n_results=3,country='china')\n",
    "search_tool=SearchTool()\n",
    "\n",
    "travel_agent=Agent(\n",
    "    role=\"导游\",\n",
    "    goal=\"根据要求，帮助游客设计旅游计划\",\n",
    "    backstory = \"你叫小丽，已经做导游工作十几年了，熟悉当地的历史、人文景观，擅长为游客精打细算\",\n",
    "    llm=llm,\n",
    "    memory=True,\n",
    "    verbose=True,\n",
    "    tools=[search_tool],\n",
    "    embedder_config=embedder_config,\n",
    "    allow_delegation=False,\n",
    "    max_rpm=5,\n",
    "    max_execution_time=15,\n",
    ")\n"
   ]
  },
  {
   "cell_type": "code",
   "execution_count": 4,
   "id": "df3e4da9-9aeb-4a8a-8910-f84a9a661549",
   "metadata": {
    "execution": {
     "iopub.execute_input": "2024-12-11T01:54:00.008735Z",
     "iopub.status.busy": "2024-12-11T01:54:00.007735Z",
     "iopub.status.idle": "2024-12-11T01:54:00.037049Z",
     "shell.execute_reply": "2024-12-11T01:54:00.035030Z",
     "shell.execute_reply.started": "2024-12-11T01:54:00.008735Z"
    }
   },
   "outputs": [],
   "source": [
    "from crewai import Task\n",
    "\n",
    "# 定义任务\n",
    "travel_task=Task(\n",
    "    description=\"\"\"\n",
    "    准备去{local}旅游3天，预算2000，如何设计旅游计划\n",
    "    \"\"\",\n",
    "    expected_output=\"\"\"\n",
    "    列出每一天的游玩项目、特色以及大概花费\n",
    "    \"\"\",\n",
    "    agent=travel_agent\n",
    ")\n"
   ]
  },
  {
   "cell_type": "code",
   "execution_count": 5,
   "id": "ff1d098f-50dd-4723-8b5f-4de8d9adffe0",
   "metadata": {
    "execution": {
     "iopub.execute_input": "2024-12-11T01:54:00.041048Z",
     "iopub.status.busy": "2024-12-11T01:54:00.039049Z",
     "iopub.status.idle": "2024-12-11T01:54:00.069597Z",
     "shell.execute_reply": "2024-12-11T01:54:00.067592Z",
     "shell.execute_reply.started": "2024-12-11T01:54:00.041048Z"
    }
   },
   "outputs": [],
   "source": [
    "# 定义团队\n",
    "from crewai import Crew\n",
    "\n",
    "team=Crew(\n",
    "    agents=[travel_agent],\n",
    "    tasks=[travel_task],\n",
    "    verbose=True,\n",
    "    memory=True,\n",
    "    embedder=embedder_config,\n",
    "    language='Chinese'\n",
    ")"
   ]
  },
  {
   "cell_type": "code",
   "execution_count": 6,
   "id": "25e7b562-e9fd-4def-af11-4fa8816b94c2",
   "metadata": {},
   "outputs": [
    {
     "name": "stdout",
     "output_type": "stream",
     "text": [
      "\u001b[1m\u001b[95m# Agent:\u001b[00m \u001b[1m\u001b[92m导游\u001b[00m\n",
      "\u001b[95m## Task:\u001b[00m \u001b[92m\n",
      "    准备去西安旅游3天，预算2000，如何设计旅游计划\n",
      "    \u001b[00m\n",
      "\n",
      "\n",
      "\u001b[1m\u001b[95m# Agent:\u001b[00m \u001b[1m\u001b[92m导游\u001b[00m\n",
      "\u001b[95m## Final Answer:\u001b[00m \u001b[92m\n",
      "根据您的需求，我为您准备的西安三天两晚旅游计划如下：\n",
      "\n",
      "第一天：\n",
      "- 上午：参观陕西历史博物馆（免费）。馆内藏品丰富多样，涵盖了从旧石器时代到1912年的各类文物。\n",
      "- 下午：游览大雁塔景区（50元/人通票可进入大雁塔和小雁塔）。大雁塔是唐代著名的佛教建筑之一，具有很高的历史文化价值。\n",
      "- 晚上：在大唐不夜城逛街、品尝当地特色小吃。晚上可在此体验浓厚的文化氛围。\n",
      "\n",
      "第二天：\n",
      "- 上午：参观西安城墙景区（40元/人），可以选择租一辆自行车骑行城墙100分钟，押金为20元。\n",
      "- 下午：游览钟楼和鼓楼（单票均为35元，套票为40元）。这两个建筑是西安的标志性景点之一。可以沿街游览周边的小巷。\n",
      "- 晚上：在回民街品尝当地美食。\n",
      "\n",
      "第三天：\n",
      "- 上午：参观秦始皇兵马俑博物馆（120元/人），这是秦始皇陵的一部分，展示了大量的陶俑和武器。\n",
      "- 下午：游览华清池景区，费用约为60元左右。这里曾是古代皇家的温泉浴场。\n",
      "- 傍晚：在周边景点拍照留念或前往其他购物点。\n",
      "\n",
      "总预算：\n",
      "第一天免费 + 第二天40元 + 第三天180元 = 220元\n",
      "\n",
      "剩余预算：1780元，可以用于交通、餐饮及其他个人消费。希望这个旅游计划能帮助您实现一个充实愉快的旅程！\n",
      "\n",
      "祝旅途愉快！\u001b[00m\n",
      "\n",
      "\n"
     ]
    },
    {
     "name": "stderr",
     "output_type": "stream",
     "text": [
      "2024-12-11 14:47:17,585 - 40684 - patch.py-patch:132 - DEBUG: Patching `client.chat.completions.create` with mode=<Mode.TOOLS: 'tool_call'>\n",
      "2024-12-11 14:47:17,608 - 40684 - process_response.py-process_response:731 - DEBUG: Instructor Request: mode.value='tool_call', response_model=<class 'crewai.utilities.evaluators.task_evaluator.TaskEvaluation'>, new_kwargs={'messages': [{'role': 'user', 'content': 'Assess the quality of the task completed based on the description, expected output, and actual results.\\n\\nTask Description:\\n\\n    准备去西安旅游3天，预算2000，如何设计旅游计划\\n    \\n\\nExpected Output:\\n\\n    列出每一天的游玩项目、特色以及大概花费\\n    \\n\\nActual Output:\\nThought: 我已经设计好了详细的西安三日游旅游计划，并确保总预算控制在2000元以内。现在可以提供给游客了。\\nFinal Answer: 根据您的需求，我为您准备的西安三天两晚旅游计划如下：\\n\\n第一天：\\n- 上午：参观陕西历史博物馆（免费）。馆内藏品丰富多样，涵盖了从旧石器时代到1912年的各类文物。\\n- 下午：游览大雁塔景区（50元/人通票可进入大雁塔和小雁塔）。大雁塔是唐代著名的佛教建筑之一，具有很高的历史文化价值。\\n- 晚上：在大唐不夜城逛街、品尝当地特色小吃。晚上可在此体验浓厚的文化氛围。\\n\\n第二天：\\n- 上午：参观西安城墙景区（40元/人），可以选择租一辆自行车骑行城墙100分钟，押金为20元。\\n- 下午：游览钟楼和鼓楼（单票均为35元，套票为40元）。这两个建筑是西安的标志性景点之一。可以沿街游览周边的小巷。\\n- 晚上：在回民街品尝当地美食。\\n\\n第三天：\\n- 上午：参观秦始皇兵马俑博物馆（120元/人），这是秦始皇陵的一部分，展示了大量的陶俑和武器。\\n- 下午：游览华清池景区，费用约为60元左右。这里曾是古代皇家的温泉浴场。\\n- 傍晚：在周边景点拍照留念或前往其他购物点。\\n\\n总预算：\\n第一天免费 + 第二天40元 + 第三天180元 = 220元\\n\\n剩余预算：1780元，可以用于交通、餐饮及其他个人消费。希望这个旅游计划能帮助您实现一个充实愉快的旅程！\\n\\n祝旅途愉快！\\n\\nPlease provide:\\n- Bullet points suggestions to improve future similar tasks\\n- A score from 0 to 10 evaluating on completion, quality, and overall performance- Entities extracted from the task output, if any, their name, type, description, and relationships'}, {'role': 'system', 'content': 'Convert all responses into valid JSON output.'}], 'model': 'ollama_chat/qwen2.5:latest', 'tools': [{'type': 'function', 'function': {'name': 'TaskEvaluation', 'description': 'Correctly extracted `TaskEvaluation` with all the required parameters with correct types', 'parameters': {'$defs': {'Entity': {'properties': {'name': {'description': 'The name of the entity.', 'title': 'Name', 'type': 'string'}, 'type': {'description': 'The type of the entity.', 'title': 'Type', 'type': 'string'}, 'description': {'description': 'Description of the entity.', 'title': 'Description', 'type': 'string'}, 'relationships': {'description': 'Relationships of the entity.', 'items': {'type': 'string'}, 'title': 'Relationships', 'type': 'array'}}, 'required': ['name', 'type', 'description', 'relationships'], 'title': 'Entity', 'type': 'object'}}, 'properties': {'suggestions': {'description': 'Suggestions to improve future similar tasks.', 'items': {'type': 'string'}, 'title': 'Suggestions', 'type': 'array'}, 'quality': {'description': 'A score from 0 to 10 evaluating on completion, quality, and overall performance, all taking into account the task description, expected output, and the result of the task.', 'title': 'Quality', 'type': 'number'}, 'entities': {'description': 'Entities extracted from the task output.', 'items': {'$ref': '#/$defs/Entity'}, 'title': 'Entities', 'type': 'array'}}, 'required': ['entities', 'quality', 'suggestions'], 'type': 'object'}}}], 'tool_choice': {'type': 'function', 'function': {'name': 'TaskEvaluation'}}}\n",
      "2024-12-11 14:47:17,617 - 40684 - retry.py-retry:49 - DEBUG: max_retries: 3\n",
      "2024-12-11 14:47:17,619 - 40684 - retry.py-retry:140 - DEBUG: Retrying, attempt: 1\n",
      "2024-12-11 14:47:29,195 - 40684 - process_response.py-process_response:138 - DEBUG: Instructor Raw Response: ModelResponse(id='chatcmpl-da4ad453-5531-49b8-97fd-97454ce8ec45', created=1733899649, model='ollama_chat/qwen2.5:latest', object='chat.completion', system_fingerprint=None, choices=[Choices(finish_reason='stop', index=0, message=Message(content='', role='assistant', tool_calls=[ChatCompletionMessageToolCall(function=Function(arguments='{\"entities\": [{\"description\": \"\\\\u6839\\\\u636e\\\\u9700\\\\u6c42\\\\u8bbe\\\\u8ba1\\\\u7684\\\\u897f\\\\u5b89\\\\u65c5\\\\u884c\\\\u65b9\\\\u6848\\\\uff0c\\\\u5305\\\\u542b\\\\u6bcf\\\\u5929\\\\u7684\\\\u5177\\\\u4f53\\\\u6d3b\\\\u52a8\\\\u548c\\\\u9884\\\\u8ba1\\\\u8d39\\\\u7528\\\\u3002\", \"name\": \"\\\\u897f\\\\u5b89\\\\u4e09\\\\u65e5\\\\u6e38\\\\u65c5\\\\u6e38\\\\u8ba1\\\\u5212\", \"relationships\": [], \"type\": \"TravelPlan\"}], \"quality\": 8, \"suggestions\": [\"\\\\u5728\\\\u63d0\\\\u4f9b\\\\u5177\\\\u4f53\\\\u9879\\\\u76ee\\\\u7684\\\\u540c\\\\u65f6\\\\uff0c\\\\u53ef\\\\u4ee5\\\\u589e\\\\u52a0\\\\u6bcf\\\\u9879\\\\u6d3b\\\\u52a8\\\\u7684\\\\u7b80\\\\u77ed\\\\u63cf\\\\u8ff0\\\\u6216\\\\u4e2a\\\\u4eba\\\\u4f53\\\\u9a8c\\\\u5206\\\\u4eab\\\\uff0c\\\\u4f7f\\\\u65c5\\\\u6e38\\\\u8ba1\\\\u5212\\\\u66f4\\\\u5177\\\\u5438\\\\u5f15\\\\u529b\\\\uff1b\", \"\\\\u8003\\\\u8651\\\\u52a0\\\\u5165\\\\u4e00\\\\u4e9b\\\\u66f4\\\\u7ecf\\\\u6d4e\\\\u5b9e\\\\u60e0\\\\u7684\\\\u9009\\\\u62e9\\\\uff0c\\\\u4ee5\\\\u786e\\\\u4fdd\\\\u9884\\\\u7b97\\\\u4e0d\\\\u8d85\\\\u8fc72000\\\\u5143\\\\u3002\"]}', name='TaskEvaluation'), id='00eb26b3-4607-48af-9f53-d3fe3a5493c0', type='function')], function_call=None))], usage=CompletionUsage(completion_tokens=120, prompt_tokens=748, total_tokens=868, completion_tokens_details=CompletionTokensDetails(accepted_prediction_tokens=None, audio_tokens=0, reasoning_tokens=0, rejected_prediction_tokens=None), prompt_tokens_details=None, prompt_token_details=PromptTokensDetails(audio_tokens=0, cached_tokens=0)))\n"
     ]
    },
    {
     "data": {
      "text/plain": [
       "CrewOutput(raw='根据您的需求，我为您准备的西安三天两晚旅游计划如下：\\n\\n第一天：\\n- 上午：参观陕西历史博物馆（免费）。馆内藏品丰富多样，涵盖了从旧石器时代到1912年的各类文物。\\n- 下午：游览大雁塔景区（50元/人通票可进入大雁塔和小雁塔）。大雁塔是唐代著名的佛教建筑之一，具有很高的历史文化价值。\\n- 晚上：在大唐不夜城逛街、品尝当地特色小吃。晚上可在此体验浓厚的文化氛围。\\n\\n第二天：\\n- 上午：参观西安城墙景区（40元/人），可以选择租一辆自行车骑行城墙100分钟，押金为20元。\\n- 下午：游览钟楼和鼓楼（单票均为35元，套票为40元）。这两个建筑是西安的标志性景点之一。可以沿街游览周边的小巷。\\n- 晚上：在回民街品尝当地美食。\\n\\n第三天：\\n- 上午：参观秦始皇兵马俑博物馆（120元/人），这是秦始皇陵的一部分，展示了大量的陶俑和武器。\\n- 下午：游览华清池景区，费用约为60元左右。这里曾是古代皇家的温泉浴场。\\n- 傍晚：在周边景点拍照留念或前往其他购物点。\\n\\n总预算：\\n第一天免费 + 第二天40元 + 第三天180元 = 220元\\n\\n剩余预算：1780元，可以用于交通、餐饮及其他个人消费。希望这个旅游计划能帮助您实现一个充实愉快的旅程！\\n\\n祝旅途愉快！', pydantic=None, json_dict=None, tasks_output=[TaskOutput(description='\\n    准备去西安旅游3天，预算2000，如何设计旅游计划\\n    ', name=None, expected_output='\\n    列出每一天的游玩项目、特色以及大概花费\\n    ', summary='\\n    准备去西安旅游3天，预算2000，如何设计旅游计划\\n    ...', raw='根据您的需求，我为您准备的西安三天两晚旅游计划如下：\\n\\n第一天：\\n- 上午：参观陕西历史博物馆（免费）。馆内藏品丰富多样，涵盖了从旧石器时代到1912年的各类文物。\\n- 下午：游览大雁塔景区（50元/人通票可进入大雁塔和小雁塔）。大雁塔是唐代著名的佛教建筑之一，具有很高的历史文化价值。\\n- 晚上：在大唐不夜城逛街、品尝当地特色小吃。晚上可在此体验浓厚的文化氛围。\\n\\n第二天：\\n- 上午：参观西安城墙景区（40元/人），可以选择租一辆自行车骑行城墙100分钟，押金为20元。\\n- 下午：游览钟楼和鼓楼（单票均为35元，套票为40元）。这两个建筑是西安的标志性景点之一。可以沿街游览周边的小巷。\\n- 晚上：在回民街品尝当地美食。\\n\\n第三天：\\n- 上午：参观秦始皇兵马俑博物馆（120元/人），这是秦始皇陵的一部分，展示了大量的陶俑和武器。\\n- 下午：游览华清池景区，费用约为60元左右。这里曾是古代皇家的温泉浴场。\\n- 傍晚：在周边景点拍照留念或前往其他购物点。\\n\\n总预算：\\n第一天免费 + 第二天40元 + 第三天180元 = 220元\\n\\n剩余预算：1780元，可以用于交通、餐饮及其他个人消费。希望这个旅游计划能帮助您实现一个充实愉快的旅程！\\n\\n祝旅途愉快！', pydantic=None, json_dict=None, agent='导游', output_format=<OutputFormat.RAW: 'raw'>)], token_usage=UsageMetrics(total_tokens=2901, prompt_tokens=2393, cached_prompt_tokens=0, completion_tokens=508, successful_requests=2))"
      ]
     },
     "execution_count": 6,
     "metadata": {},
     "output_type": "execute_result"
    }
   ],
   "source": [
    "team.kickoff(inputs={'local':\"西安\"})"
   ]
  },
  {
   "cell_type": "code",
   "execution_count": 4,
   "id": "e64973f7-11b7-4d09-8973-5ee8818d6971",
   "metadata": {},
   "outputs": [
    {
     "name": "stdout",
     "output_type": "stream",
     "text": [
      " ������ C �еľ��� OS\n",
      " �������к��� E483-716C\n",
      "\n",
      " C:\\Users\\wushaogui\\AppData\\Local\\CrewAI\\CrewAI ��Ŀ¼\n",
      "\n",
      "2024/12/11  14:51    <DIR>          .\n",
      "2024/12/10  08:45    <DIR>          ..\n",
      "2024/12/11  11:08    <DIR>          entities\n",
      "2024/12/11  14:51            28,672 latest_kickoff_task_outputs.db\n",
      "2024/12/11  14:47            12,288 long_term_memory_storage.db\n",
      "2024/12/11  11:08    <DIR>          short_term\n",
      "               2 ���ļ�         40,960 �ֽ�\n",
      "               4 ��Ŀ¼ 534,454,677,504 �����ֽ�\n"
     ]
    }
   ],
   "source": [
    "# 记忆存储位置 C:\\Users\\xxx\\AppData\\Local\\CrewAI\\[workspace]\n",
    "!dir C:\\Users\\wushaogui\\AppData\\Local\\CrewAI\\CrewAI"
   ]
  }
 ],
 "metadata": {
  "kernelspec": {
   "display_name": "Python 3 (ipykernel)",
   "language": "python",
   "name": "python3"
  },
  "language_info": {
   "codemirror_mode": {
    "name": "ipython",
    "version": 3
   },
   "file_extension": ".py",
   "mimetype": "text/x-python",
   "name": "python",
   "nbconvert_exporter": "python",
   "pygments_lexer": "ipython3",
   "version": "3.10.14"
  }
 },
 "nbformat": 4,
 "nbformat_minor": 5
}
