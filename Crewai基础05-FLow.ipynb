{
 "cells": [
  {
   "cell_type": "markdown",
   "id": "77113e0d-69d3-48d8-9fb9-f15f9c4be42b",
   "metadata": {},
   "source": [
    "Crew组建了团队，团队内共享知识，解决特定的问题，Crew团队内的Agent是以任务顺序或者分层的思想去执行，实际工作会有更加复杂的流程，因此Crew定义了工作流(Flow)，进一步明确规划Agent的执行过程\n",
    "\n",
    "| 特性 | Crew | Flow |\n",
    "|------|------|------|\n",
    "| 定义 | 一组协作完成特定任务的AI代理 | 用于创建和管理AI工作流的高级功能 |\n",
    "| 执行方式 | 顺序（Sequential）或层级（Hierarchical） | 提供复杂的工作流管理，包括状态共享和事件驱动执行 |\n",
    "| 复杂度 | 专注于特定任务的代理协作 | 提供更高层次的结构，用于组织和连接多个Crew或任务 |\n",
    "| 主要功能 | 代理间协作和任务分配 | 简化工作流创建、状态管理、事件驱动架构、灵活控制流 |\n",
    "| 应用场景 | 适用于需要多个AI代理协作的单一任务或相关任务集 | 适用于创建多步骤流程、链接不同Crew的输出，实现复杂逻辑 |\n",
    "| 状态管理 | 基本的任务间状态传递 | 提供强大的结构化和非结构化状态管理机制 |"
   ]
  },
  {
   "cell_type": "code",
   "execution_count": 1,
   "id": "7996fbbf-b05c-4fb4-b94a-99bb53a566d0",
   "metadata": {
    "execution": {
     "iopub.execute_input": "2024-12-10T13:35:57.933133Z",
     "iopub.status.busy": "2024-12-10T13:35:57.933133Z",
     "iopub.status.idle": "2024-12-10T13:36:20.284037Z",
     "shell.execute_reply": "2024-12-10T13:36:20.282006Z",
     "shell.execute_reply.started": "2024-12-10T13:35:57.933133Z"
    }
   },
   "outputs": [
    {
     "name": "stdout",
     "output_type": "stream",
     "text": [
      "流程开始...\n",
      "curriculums_json: {\n",
      "    \"curriculums\": [\n",
      "        {\n",
      "            \"name\": \"张明\",\n",
      "            \"pay\": \"12000-15000元/月\",\n",
      "            \"person_info\": \"计算机视觉工程师\"\n",
      "        },\n",
      "        {\n",
      "            \"name\": \"李华\",\n",
      "            \"pay\": \"13000-16000元/月\",\n",
      "            \"person_info\": \"计算机视觉工程师\"\n",
      "        },\n",
      "        {\n",
      "            \"name\": \"王强\",\n",
      "            \"pay\": \"8000-10000元/月\",\n",
      "            \"person_info\": \"销售经理\"\n",
      "        },\n",
      "        {\n",
      "            \"name\": \"赵丽\",\n",
      "            \"pay\": \"7500-9500元/月\",\n",
      "            \"person_info\": \"人事专员\"\n",
      "        },\n",
      "        {\n",
      "            \"name\": \"孙伟\",\n",
      "            \"pay\": \"10000-12000元/月\",\n",
      "            \"person_info\": \"项目经理\"\n",
      "        }\n",
      "    ]\n",
      "}\n",
      "人事部筛选简历...\n",
      "{ \"curriculums\": [\n",
      "    {\n",
      "        \"name\": \"张明\",\n",
      "        \"pay\": \"12000-15000元/月\",\n",
      "        \"person_info\": \"计算机视觉工程师\"\n",
      "    },\n",
      "    {\n",
      "        \"name\": \"李华\",\n",
      "        \"pay\": \"13000-16000元/月\",\n",
      "        \"person_info\": \"计算机视觉工程师\"\n",
      "    }\n",
      "] }\n"
     ]
    }
   ],
   "source": [
    "# 获取简历->筛选简历(财务部，人事部)->确认面试人员\n",
    "from crewai.flow.flow import Flow,listen,start\n",
    "import nest_asyncio\n",
    "nest_asyncio.apply()\n",
    "\n",
    "from pydantic import BaseModel\n",
    "class curriculum(BaseModel):\n",
    "    name: str\n",
    "    person_info: str\n",
    "    pay: str\n",
    "\n",
    "class curriculum_list(BaseModel):\n",
    "    curriculums: list[curriculum]\n",
    "\n",
    "\n",
    "# 获取简历->筛选简历(财务部)->确认面试人员\n",
    "class RecruitmentFLow(Flow):\n",
    "    from ollama import Client\n",
    "    client=Client(host='http://localhost:11434')\n",
    "    \n",
    "    @start()\n",
    "    def generate_curriculums(self):\n",
    "        print(\"流程开始...\")\n",
    "\n",
    "        messages=[\n",
    "            {'role':'user','content':\"\"\"\n",
    "            生成5份简历，只包含2名计算机视觉工程师，其他是销售、人事、管理岗位的\n",
    "            只包含人名，个人情况及要求薪资，\n",
    "            只输出简历文本，不输出其他任何内容\"\"\"}\n",
    "        ]\n",
    "\n",
    "        response=self.client.chat(\n",
    "            model='qwen2.5:latest',\n",
    "            messages=messages,\n",
    "            format=curriculum_list.schema()\n",
    "        )\n",
    "\n",
    "        curriculums_json=response['message']['content']\n",
    "        print('curriculums_json:',curriculums_json)\n",
    "\n",
    "        return curriculums_json\n",
    "\n",
    "    @listen(generate_curriculums)\n",
    "    def filter_curriculum_MinistryofPersonnel(self,curriculums_json):\n",
    "        print('人事部筛选简历...')\n",
    "\n",
    "        messages=[\n",
    "            {'role':'user','content':f\"\"\"\n",
    "            按照要求筛选以下简历，要求：招收一名有5年以上工作经验得计算机视觉工程师，\n",
    "            薪资不能超过25000一个月；简历{curriculums_json}\n",
    "            \"\"\"}\n",
    "        ]\n",
    "\n",
    "        response=self.client.chat(\n",
    "            model='qwen2.5:latest',\n",
    "            messages=messages,\n",
    "            format=curriculum_list.schema()\n",
    "        )\n",
    "\n",
    "        filter_curriculums_json=response['message']['content']\n",
    "        # print('filter_curriculums_json:',filter_curriculums_json)\n",
    "\n",
    "        return filter_curriculums_json\n",
    "\n",
    "flow=RecruitmentFLow()\n",
    "result=flow.kickoff()\n",
    "print(result)"
   ]
  },
  {
   "cell_type": "markdown",
   "id": "226e3e46-ade3-4fa0-bc6a-677f0668d4ca",
   "metadata": {},
   "source": [
    "在构建FLow，有两个关键的装饰器：start、listen\n",
    "\n",
    "- **start**：用于将方法标记为 Flow 的起点。当 Flow 启动时，所有修饰的方法都将并行执行。一个 Flow 中可以有多个 start 方法，它们都将在 Flow 启动时执行\n",
    "- **listen**: 用于将方法标记为 Flow 中另一个任务输出的侦听器。当指定的 task 发出 output 时，将执行 with 修饰的方法。该方法可以访问它正在侦听的任务的输出作为参数"
   ]
  },
  {
   "cell_type": "code",
   "execution_count": 2,
   "id": "b2684a17-33c2-4502-9a5f-4c6fc0b7e055",
   "metadata": {
    "execution": {
     "iopub.execute_input": "2024-12-10T13:36:28.349208Z",
     "iopub.status.busy": "2024-12-10T13:36:28.348218Z",
     "iopub.status.idle": "2024-12-10T13:36:28.412243Z",
     "shell.execute_reply": "2024-12-10T13:36:28.411318Z",
     "shell.execute_reply.started": "2024-12-10T13:36:28.349208Z"
    }
   },
   "outputs": [
    {
     "name": "stdout",
     "output_type": "stream",
     "text": [
      "Plot saved as my_flow_plot.html\n"
     ]
    }
   ],
   "source": [
    "# 将工作流程绘制到html\n",
    "flow.plot(\"my_flow_plot\")"
   ]
  }
 ],
 "metadata": {
  "kernelspec": {
   "display_name": "Python 3 (ipykernel)",
   "language": "python",
   "name": "python3"
  },
  "language_info": {
   "codemirror_mode": {
    "name": "ipython",
    "version": 3
   },
   "file_extension": ".py",
   "mimetype": "text/x-python",
   "name": "python",
   "nbconvert_exporter": "python",
   "pygments_lexer": "ipython3",
   "version": "3.10.14"
  }
 },
 "nbformat": 4,
 "nbformat_minor": 5
}
